{
 "cells": [
  {
   "cell_type": "markdown",
   "metadata": {},
   "source": [
    "# <span style='color:dodgerblue'> Future Employer Data Science Challenge by John T Foxworthy </span>\n",
    "\n",
    "###  <span style='color:dodgerblue'> After receiving access to all files, my first reaction is the Logistic Regression model because of paid_first_loan field in the repayment file that enumerates the first paid loan as one and not paying the first loan as zero.  The binary expression of the loan payment is the dependent response variable as I feature engineer the rest of the data in the files for independent explanatory variables. </span>\n",
    "\n",
    "\n",
    "### <span style='color:dodgerblue'> However, the data is strongly biased because the paid_first_loan field is overwhelmingly skewed towards one value and a small percentage of  paid_first_loan field equaling zero, contributing more than anything else to the status of my work below. </span>\n",
    "\n",
    "### <span style='color:dodgerblue'> Beyond the work below, the next steps toward implementation of my model is to gather more data, find the source of provided data below and engage with stakeholders to acquire business impacts such as sign up and disbursement dates.  </span>\n"
   ]
  },
  {
   "cell_type": "markdown",
   "metadata": {},
   "source": [
    "### 1.  Importing, loading data, formatting, etc.  "
   ]
  },
  {
   "cell_type": "code",
   "execution_count": 1,
   "metadata": {},
   "outputs": [],
   "source": [
    "# Required imports\n",
    "\n",
    "from matplotlib import pyplot as plt\n",
    "import numpy as np\n",
    "import pandas as pd\n",
    "import seaborn as sns\n",
    "#import math\n",
    "\n",
    "# Model imports\n",
    "from sklearn.model_selection import train_test_split\n",
    "from sklearn.linear_model import LogisticRegression\n",
    "from sklearn import metrics\n",
    "from sklearn.model_selection import StratifiedShuffleSplit\n",
    "from sklearn.model_selection import StratifiedKFold\n",
    "from sklearn import model_selection"
   ]
  },
  {
   "cell_type": "markdown",
   "metadata": {},
   "source": [
    "### Loading files, formatting and removing any annoying warnings\n",
    "\n",
    "### The two provided files dataScienceChallenge_repayment.xlsx and dataScienceChallenge_callLog.csv were placed together in merged.csv\n",
    "\n",
    "### Please note the dummy variables were created from the direction field as the direction values of incoming, outgoing, missed, unknown correspond to the var_inc, var_out, var_mis, and var_unk.  \n",
    "\n",
    "### Also, the var_sd is the difference between the signup date and the disbursement date fields in the repayment file.    "
   ]
  },
  {
   "cell_type": "code",
   "execution_count": 2,
   "metadata": {},
   "outputs": [
    {
     "data": {
      "text/plain": [
       "['person_id_random',\n",
       " 'phone_randomized',\n",
       " 'direction',\n",
       " 'duration',\n",
       " 'paid_first_loan',\n",
       " 'var_inc',\n",
       " 'var_out',\n",
       " 'var_mis',\n",
       " 'var_unk',\n",
       " 'var_sd']"
      ]
     },
     "execution_count": 2,
     "metadata": {},
     "output_type": "execute_result"
    }
   ],
   "source": [
    "# remove the scientific notation globally \n",
    "pd.options.display.float_format = '{:.4f}'.format\n",
    "\n",
    "# import warnings filter\n",
    "from warnings import simplefilter\n",
    "\n",
    "# ignore all future warnings\n",
    "simplefilter(action='ignore', category=FutureWarning)\n",
    "\n",
    "# Load the file for analysis and view columns\n",
    "\n",
    "df1 = pd.read_csv('/Users/lacivert/tala/merged.csv')\n",
    "\n",
    "list(df1.columns.values)"
   ]
  },
  {
   "cell_type": "code",
   "execution_count": 3,
   "metadata": {},
   "outputs": [
    {
     "data": {
      "text/html": [
       "<div>\n",
       "<style scoped>\n",
       "    .dataframe tbody tr th:only-of-type {\n",
       "        vertical-align: middle;\n",
       "    }\n",
       "\n",
       "    .dataframe tbody tr th {\n",
       "        vertical-align: top;\n",
       "    }\n",
       "\n",
       "    .dataframe thead th {\n",
       "        text-align: right;\n",
       "    }\n",
       "</style>\n",
       "<table border=\"1\" class=\"dataframe\">\n",
       "  <thead>\n",
       "    <tr style=\"text-align: right;\">\n",
       "      <th></th>\n",
       "      <th>person_id_random</th>\n",
       "      <th>duration</th>\n",
       "      <th>paid_first_loan</th>\n",
       "      <th>var_inc</th>\n",
       "      <th>var_out</th>\n",
       "      <th>var_mis</th>\n",
       "      <th>var_unk</th>\n",
       "      <th>var_sd</th>\n",
       "    </tr>\n",
       "  </thead>\n",
       "  <tbody>\n",
       "    <tr>\n",
       "      <th>count</th>\n",
       "      <td>1048575.0000</td>\n",
       "      <td>1048575.0000</td>\n",
       "      <td>1048575.0000</td>\n",
       "      <td>1048575.0000</td>\n",
       "      <td>1048575.0000</td>\n",
       "      <td>1048575.0000</td>\n",
       "      <td>1048575.0000</td>\n",
       "      <td>1048575.0000</td>\n",
       "    </tr>\n",
       "    <tr>\n",
       "      <th>mean</th>\n",
       "      <td>5527508299.4875</td>\n",
       "      <td>45.1808</td>\n",
       "      <td>0.9377</td>\n",
       "      <td>0.2849</td>\n",
       "      <td>0.5758</td>\n",
       "      <td>0.1314</td>\n",
       "      <td>0.0079</td>\n",
       "      <td>151.4037</td>\n",
       "    </tr>\n",
       "    <tr>\n",
       "      <th>std</th>\n",
       "      <td>2564427029.7385</td>\n",
       "      <td>122.7040</td>\n",
       "      <td>0.2417</td>\n",
       "      <td>0.4514</td>\n",
       "      <td>0.4942</td>\n",
       "      <td>0.3379</td>\n",
       "      <td>0.0886</td>\n",
       "      <td>246.7958</td>\n",
       "    </tr>\n",
       "    <tr>\n",
       "      <th>min</th>\n",
       "      <td>1008312365.0000</td>\n",
       "      <td>-1.0000</td>\n",
       "      <td>0.0000</td>\n",
       "      <td>0.0000</td>\n",
       "      <td>0.0000</td>\n",
       "      <td>0.0000</td>\n",
       "      <td>0.0000</td>\n",
       "      <td>1.0000</td>\n",
       "    </tr>\n",
       "    <tr>\n",
       "      <th>25%</th>\n",
       "      <td>3315068198.0000</td>\n",
       "      <td>0.0000</td>\n",
       "      <td>1.0000</td>\n",
       "      <td>0.0000</td>\n",
       "      <td>0.0000</td>\n",
       "      <td>0.0000</td>\n",
       "      <td>0.0000</td>\n",
       "      <td>2.0000</td>\n",
       "    </tr>\n",
       "    <tr>\n",
       "      <th>50%</th>\n",
       "      <td>5456092676.0000</td>\n",
       "      <td>13.0000</td>\n",
       "      <td>1.0000</td>\n",
       "      <td>0.0000</td>\n",
       "      <td>1.0000</td>\n",
       "      <td>0.0000</td>\n",
       "      <td>0.0000</td>\n",
       "      <td>4.0000</td>\n",
       "    </tr>\n",
       "    <tr>\n",
       "      <th>75%</th>\n",
       "      <td>7545986006.0000</td>\n",
       "      <td>44.0000</td>\n",
       "      <td>1.0000</td>\n",
       "      <td>1.0000</td>\n",
       "      <td>1.0000</td>\n",
       "      <td>0.0000</td>\n",
       "      <td>0.0000</td>\n",
       "      <td>230.0000</td>\n",
       "    </tr>\n",
       "    <tr>\n",
       "      <th>max</th>\n",
       "      <td>9998624500.0000</td>\n",
       "      <td>9742.0000</td>\n",
       "      <td>1.0000</td>\n",
       "      <td>1.0000</td>\n",
       "      <td>1.0000</td>\n",
       "      <td>1.0000</td>\n",
       "      <td>1.0000</td>\n",
       "      <td>1112.0000</td>\n",
       "    </tr>\n",
       "  </tbody>\n",
       "</table>\n",
       "</div>"
      ],
      "text/plain": [
       "       person_id_random     duration  paid_first_loan      var_inc  \\\n",
       "count      1048575.0000 1048575.0000     1048575.0000 1048575.0000   \n",
       "mean    5527508299.4875      45.1808           0.9377       0.2849   \n",
       "std     2564427029.7385     122.7040           0.2417       0.4514   \n",
       "min     1008312365.0000      -1.0000           0.0000       0.0000   \n",
       "25%     3315068198.0000       0.0000           1.0000       0.0000   \n",
       "50%     5456092676.0000      13.0000           1.0000       0.0000   \n",
       "75%     7545986006.0000      44.0000           1.0000       1.0000   \n",
       "max     9998624500.0000    9742.0000           1.0000       1.0000   \n",
       "\n",
       "           var_out      var_mis      var_unk       var_sd  \n",
       "count 1048575.0000 1048575.0000 1048575.0000 1048575.0000  \n",
       "mean        0.5758       0.1314       0.0079     151.4037  \n",
       "std         0.4942       0.3379       0.0886     246.7958  \n",
       "min         0.0000       0.0000       0.0000       1.0000  \n",
       "25%         0.0000       0.0000       0.0000       2.0000  \n",
       "50%         1.0000       0.0000       0.0000       4.0000  \n",
       "75%         1.0000       0.0000       0.0000     230.0000  \n",
       "max         1.0000       1.0000       1.0000    1112.0000  "
      ]
     },
     "execution_count": 3,
     "metadata": {},
     "output_type": "execute_result"
    }
   ],
   "source": [
    "#decribe main descriptive statistics for each variable\n",
    "df1.describe()"
   ]
  },
  {
   "cell_type": "markdown",
   "metadata": {},
   "source": [
    "### The descriptive statistics brings up questions to ask the stakeholders, such as the outgoing values in the direction field have higher arithmetic mean than incoming, missing, and unknown.  Some questions of mine are outlined below . . .\n",
    "\n",
    "###  <span style='color:blue'> 1A:  Does the very high number of first paid loans in the data have a relationship with outgoing calls? </span>\n",
    "\n",
    "### <span style='color:green'>1B:  Maybe a stakeholder with an interest and concern here can provide some domain knowledge and the businesses' nature with their loans.  What is the classification of businesses associated with provided data?  For example, what do they sell?  Food, household goods, etc.? </span>\n",
    "\n",
    "### <span style='color:gray'> 1C: Would a business stakeholder provide a business characterization with the direction data such as a successful business that pays its loan properly have more outgoing calls, . . . or does it expect more incoming calls? </span>\n",
    "\n",
    "### More work can be done here in terms of Exploratory Data Analysis such a correlation matrix function to identify associations of the independent explanatory variables, but I really do not have time."
   ]
  },
  {
   "cell_type": "markdown",
   "metadata": {},
   "source": [
    "### Below I am defining the input columns in one dataset, X, . . . and the output, y.  Thereafter, I test, train split to set up the Logistic Regression Model"
   ]
  },
  {
   "cell_type": "code",
   "execution_count": 4,
   "metadata": {},
   "outputs": [],
   "source": [
    "X = df1[['duration'\n",
    "         ,'var_inc'\n",
    "         ,'var_out'\n",
    "         ,'var_mis'\n",
    "         ,'var_unk'\n",
    "         ,'var_sd']]\n",
    "\n",
    "y = df1['paid_first_loan']"
   ]
  },
  {
   "cell_type": "code",
   "execution_count": 5,
   "metadata": {},
   "outputs": [],
   "source": [
    "X_train,X_test,y_train,y_test = train_test_split(X,y\n",
    "                                                 ,test_size=0.20\n",
    "                                                 ,random_state=0\n",
    "                                                 ,shuffle=False)"
   ]
  },
  {
   "cell_type": "code",
   "execution_count": 6,
   "metadata": {},
   "outputs": [],
   "source": [
    "logistic_regression = LogisticRegression()\n",
    "\n",
    "logistic_regression.fit(X_train,y_train) \n",
    "#train data to train the model for further evaluation\n",
    "\n",
    "y_pred = logistic_regression.predict(X_test) \n",
    "#define the predicted values of the mode in order to further compare"
   ]
  },
  {
   "cell_type": "markdown",
   "metadata": {},
   "source": [
    "### 2.  Stratified K Fold, Confusion Matrix and Receiver Operating Characteristic\n",
    "\n",
    "### Given the relative unfamiliarity of the data, I chose the stratification approach to sampling by dividing the provided dataset into similar subgroups with some but not a complete success.  I tested and researched this approach given the dataset, but my weakness is the receiver operating characteristic or ROC scores of 0.50 because it is a diagnostic tool of a binary classification system.  A perfect classifier has the ROC value of 1 and my half score represents a bad classifier, but just barely because it is not zero.  More work is required to improve the model.    "
   ]
  },
  {
   "cell_type": "code",
   "execution_count": 7,
   "metadata": {},
   "outputs": [
    {
     "name": "stdout",
     "output_type": "stream",
     "text": [
      "1 of KFold 5\n",
      "ROC AUC score: 0.5\n",
      "2 of KFold 5\n",
      "ROC AUC score: 0.5\n",
      "3 of KFold 5\n",
      "ROC AUC score: 0.5\n",
      "4 of KFold 5\n",
      "ROC AUC score: 0.5\n",
      "5 of KFold 5\n",
      "ROC AUC score: 0.5\n"
     ]
    }
   ],
   "source": [
    "from sklearn.metrics import confusion_matrix, roc_auc_score ,roc_curve,auc\n",
    "\n",
    "seed =5\n",
    "kf = StratifiedKFold(n_splits=5,shuffle=True,random_state=seed)\n",
    "pred_test_full =0\n",
    "cv_score =[]\n",
    "i=1\n",
    "\n",
    "for train_index,test_index in kf.split(X,y):\n",
    "    print('{} of KFold {}'.format(i,kf.n_splits))\n",
    "    xtr,xvl = X.loc[train_index],X.loc[test_index]\n",
    "    ytr,yvl = y.loc[train_index],y.loc[test_index]\n",
    "    \n",
    "#model\n",
    "    lr = LogisticRegression()\n",
    "    lr.fit(xtr,ytr)\n",
    "    score = roc_auc_score(yvl,lr.predict(xvl))\n",
    "    print('ROC AUC score:',score)\n",
    "    cv_score.append(score)    \n",
    "    pred_test = lr.predict_proba(X_test)[:,1]\n",
    "    pred_test_full +=pred_test\n",
    "    i+=1\n",
    "    "
   ]
  },
  {
   "cell_type": "markdown",
   "metadata": {
    "scrolled": true
   },
   "source": [
    "### A confusion matrix or error matrix is used for the performance of a classifier with four quadrants\n",
    "\n",
    "### false negatives, false positives, true negatives and true positives.  A suboptimal dual quandrant is \n",
    "\n",
    "### returned or a 2 x 2 matrix that checks false positives and true negatives, but it is line of the 93% accuracy\n",
    "\n",
    "### further below as totals=0's+1's.  \n",
    "\n",
    "### The ones represent a perfect match (real=predicted outcome; 0s represent incorrect matches)"
   ]
  },
  {
   "cell_type": "code",
   "execution_count": 8,
   "metadata": {},
   "outputs": [
    {
     "name": "stdout",
     "output_type": "stream",
     "text": [
      "Predicted       1\n",
      "Actual           \n",
      "0           15262\n",
      "1          194453\n"
     ]
    },
    {
     "data": {
      "image/png": "[encoded data removed]",
      "text/plain": [
       "<Figure size 432x288 with 2 Axes>"
      ]
     },
     "metadata": {
      "needs_background": "light"
     },
     "output_type": "display_data"
    }
   ],
   "source": [
    "confusion_matrix = pd.crosstab(y_test, y_pred\n",
    "                               , rownames=['Actual']\n",
    "                               , colnames=['Predicted'])\n",
    "\n",
    "sns.heatmap(confusion_matrix, annot=True)\n",
    "\n",
    "print(confusion_matrix)"
   ]
  },
  {
   "cell_type": "code",
   "execution_count": 9,
   "metadata": {},
   "outputs": [
    {
     "name": "stdout",
     "output_type": "stream",
     "text": [
      "Accuracy of logistic regression model is: 0.93\n"
     ]
    }
   ],
   "source": [
    "#following comparison between real and predicted y data\n",
    "print('Accuracy of logistic regression model is: {:.2f}'.format(metrics.accuracy_score(y_test, y_pred)))\n",
    "plt.show()"
   ]
  },
  {
   "cell_type": "markdown",
   "metadata": {},
   "source": [
    "### My attempt, a scratch pad approach, to fit the logistic regression and predict some values . . . nothing of great importance."
   ]
  },
  {
   "cell_type": "code",
   "execution_count": 10,
   "metadata": {},
   "outputs": [],
   "source": [
    "clf = LogisticRegression(random_state=0).fit(X, y)"
   ]
  },
  {
   "cell_type": "code",
   "execution_count": 11,
   "metadata": {},
   "outputs": [
    {
     "data": {
      "text/plain": [
       "array([[0.06137943, 0.93862057],\n",
       "       [0.06076522, 0.93923478],\n",
       "       [0.06242594, 0.93757406],\n",
       "       ...,\n",
       "       [0.04739421, 0.95260579],\n",
       "       [0.04887219, 0.95112781],\n",
       "       [0.04776513, 0.95223487]])"
      ]
     },
     "execution_count": 11,
     "metadata": {},
     "output_type": "execute_result"
    }
   ],
   "source": [
    "clf.predict_proba(X) \n",
    "#this returns the matrix of probabilities that the predicted output is equal to zero or one\n",
    "#this is why below we have every time dual components (one for the prob. of 0 and one for the prob. of 1)\n",
    "#e.g. for the first values the probability that it is 1 is a lot higher"
   ]
  },
  {
   "cell_type": "markdown",
   "metadata": {},
   "source": [
    "### Plot below of the true positive rate against the false positive rate as a Receiver Operating\n",
    "### Operating Characteristic (ROC) curve shows the tradeoff between sensitivity and specificity.\n",
    "### An approximate 60% value is not bad and it is good."
   ]
  },
  {
   "cell_type": "code",
   "execution_count": 12,
   "metadata": {},
   "outputs": [
    {
     "data": {
      "text/plain": [
       "<matplotlib.legend.Legend at 0x7f895084a290>"
      ]
     },
     "execution_count": 12,
     "metadata": {},
     "output_type": "execute_result"
    },
    {
     "data": {
      "image/png": "[encoded data removed]",
      "text/plain": [
       "<Figure size 432x288 with 1 Axes>"
      ]
     },
     "metadata": {
      "needs_background": "light"
     },
     "output_type": "display_data"
    }
   ],
   "source": [
    "y_pred_proba = logistic_regression.predict_proba(X_test)[::,1]\n",
    "fpr, tpr, _ = metrics.roc_curve(y_test,  y_pred_proba)\n",
    "auc = metrics.roc_auc_score(y_test, y_pred_proba)\n",
    "plt.plot(fpr,tpr,label=\"data 1, auc=\"+str(auc))\n",
    "plt.legend(loc=4)\n"
   ]
  },
  {
   "cell_type": "code",
   "execution_count": 13,
   "metadata": {},
   "outputs": [],
   "source": [
    "logistic_regression= LogisticRegression()"
   ]
  },
  {
   "cell_type": "code",
   "execution_count": 14,
   "metadata": {},
   "outputs": [
    {
     "data": {
      "text/plain": [
       "LogisticRegression()"
      ]
     },
     "execution_count": 14,
     "metadata": {},
     "output_type": "execute_result"
    }
   ],
   "source": [
    "logistic_regression.fit(X_train,y_train)"
   ]
  },
  {
   "cell_type": "code",
   "execution_count": 15,
   "metadata": {},
   "outputs": [
    {
     "data": {
      "text/html": [
       "<div>\n",
       "<style scoped>\n",
       "    .dataframe tbody tr th:only-of-type {\n",
       "        vertical-align: middle;\n",
       "    }\n",
       "\n",
       "    .dataframe tbody tr th {\n",
       "        vertical-align: top;\n",
       "    }\n",
       "\n",
       "    .dataframe thead th {\n",
       "        text-align: right;\n",
       "    }\n",
       "</style>\n",
       "<table border=\"1\" class=\"dataframe\">\n",
       "  <thead>\n",
       "    <tr style=\"text-align: right;\">\n",
       "      <th></th>\n",
       "      <th>person_id_random</th>\n",
       "      <th>duration</th>\n",
       "      <th>paid_first_loan</th>\n",
       "      <th>var_inc</th>\n",
       "      <th>var_out</th>\n",
       "      <th>var_mis</th>\n",
       "      <th>var_unk</th>\n",
       "      <th>var_sd</th>\n",
       "    </tr>\n",
       "  </thead>\n",
       "  <tbody>\n",
       "    <tr>\n",
       "      <th>count</th>\n",
       "      <td>1048575.0000</td>\n",
       "      <td>1048575.0000</td>\n",
       "      <td>1048575.0000</td>\n",
       "      <td>1048575.0000</td>\n",
       "      <td>1048575.0000</td>\n",
       "      <td>1048575.0000</td>\n",
       "      <td>1048575.0000</td>\n",
       "      <td>1048575.0000</td>\n",
       "    </tr>\n",
       "    <tr>\n",
       "      <th>mean</th>\n",
       "      <td>5527508299.4875</td>\n",
       "      <td>45.1808</td>\n",
       "      <td>0.9377</td>\n",
       "      <td>0.2849</td>\n",
       "      <td>0.5758</td>\n",
       "      <td>0.1314</td>\n",
       "      <td>0.0079</td>\n",
       "      <td>151.4037</td>\n",
       "    </tr>\n",
       "    <tr>\n",
       "      <th>std</th>\n",
       "      <td>2564427029.7385</td>\n",
       "      <td>122.7040</td>\n",
       "      <td>0.2417</td>\n",
       "      <td>0.4514</td>\n",
       "      <td>0.4942</td>\n",
       "      <td>0.3379</td>\n",
       "      <td>0.0886</td>\n",
       "      <td>246.7958</td>\n",
       "    </tr>\n",
       "    <tr>\n",
       "      <th>min</th>\n",
       "      <td>1008312365.0000</td>\n",
       "      <td>-1.0000</td>\n",
       "      <td>0.0000</td>\n",
       "      <td>0.0000</td>\n",
       "      <td>0.0000</td>\n",
       "      <td>0.0000</td>\n",
       "      <td>0.0000</td>\n",
       "      <td>1.0000</td>\n",
       "    </tr>\n",
       "    <tr>\n",
       "      <th>25%</th>\n",
       "      <td>3315068198.0000</td>\n",
       "      <td>0.0000</td>\n",
       "      <td>1.0000</td>\n",
       "      <td>0.0000</td>\n",
       "      <td>0.0000</td>\n",
       "      <td>0.0000</td>\n",
       "      <td>0.0000</td>\n",
       "      <td>2.0000</td>\n",
       "    </tr>\n",
       "    <tr>\n",
       "      <th>50%</th>\n",
       "      <td>5456092676.0000</td>\n",
       "      <td>13.0000</td>\n",
       "      <td>1.0000</td>\n",
       "      <td>0.0000</td>\n",
       "      <td>1.0000</td>\n",
       "      <td>0.0000</td>\n",
       "      <td>0.0000</td>\n",
       "      <td>4.0000</td>\n",
       "    </tr>\n",
       "    <tr>\n",
       "      <th>75%</th>\n",
       "      <td>7545986006.0000</td>\n",
       "      <td>44.0000</td>\n",
       "      <td>1.0000</td>\n",
       "      <td>1.0000</td>\n",
       "      <td>1.0000</td>\n",
       "      <td>0.0000</td>\n",
       "      <td>0.0000</td>\n",
       "      <td>230.0000</td>\n",
       "    </tr>\n",
       "    <tr>\n",
       "      <th>max</th>\n",
       "      <td>9998624500.0000</td>\n",
       "      <td>9742.0000</td>\n",
       "      <td>1.0000</td>\n",
       "      <td>1.0000</td>\n",
       "      <td>1.0000</td>\n",
       "      <td>1.0000</td>\n",
       "      <td>1.0000</td>\n",
       "      <td>1112.0000</td>\n",
       "    </tr>\n",
       "  </tbody>\n",
       "</table>\n",
       "</div>"
      ],
      "text/plain": [
       "       person_id_random     duration  paid_first_loan      var_inc  \\\n",
       "count      1048575.0000 1048575.0000     1048575.0000 1048575.0000   \n",
       "mean    5527508299.4875      45.1808           0.9377       0.2849   \n",
       "std     2564427029.7385     122.7040           0.2417       0.4514   \n",
       "min     1008312365.0000      -1.0000           0.0000       0.0000   \n",
       "25%     3315068198.0000       0.0000           1.0000       0.0000   \n",
       "50%     5456092676.0000      13.0000           1.0000       0.0000   \n",
       "75%     7545986006.0000      44.0000           1.0000       1.0000   \n",
       "max     9998624500.0000    9742.0000           1.0000       1.0000   \n",
       "\n",
       "           var_out      var_mis      var_unk       var_sd  \n",
       "count 1048575.0000 1048575.0000 1048575.0000 1048575.0000  \n",
       "mean        0.5758       0.1314       0.0079     151.4037  \n",
       "std         0.4942       0.3379       0.0886     246.7958  \n",
       "min         0.0000       0.0000       0.0000       1.0000  \n",
       "25%         0.0000       0.0000       0.0000       2.0000  \n",
       "50%         1.0000       0.0000       0.0000       4.0000  \n",
       "75%         1.0000       0.0000       0.0000     230.0000  \n",
       "max         1.0000       1.0000       1.0000    1112.0000  "
      ]
     },
     "execution_count": 15,
     "metadata": {},
     "output_type": "execute_result"
    }
   ],
   "source": [
    "#testing the data with fresh new input (not from the same file)\n",
    "df2 = pd.read_csv('/Users/lacivert/tala/merged.csv')\n",
    "df2.describe() #so we have a small new candidates new set of data to test this model"
   ]
  },
  {
   "cell_type": "markdown",
   "metadata": {},
   "source": [
    "### I create a 2x2 matrix with checks for . . . true positives, true negatives, false positives and true negatives.\n",
    "\n",
    "### The ones represent perfect match (real=predicted outcome; zeros represent incorrect matches)\n",
    "\n",
    "### Please note this is in line with the accuracy printed below of 92% as totals=92/(8+92)"
   ]
  },
  {
   "cell_type": "code",
   "execution_count": 16,
   "metadata": {},
   "outputs": [
    {
     "name": "stdout",
     "output_type": "stream",
     "text": [
      "Predicted       1\n",
      "Actual           \n",
      "0           65347\n",
      "1          983228\n",
      "Accuracy of logistic regression model is: 0.94\n"
     ]
    },
    {
     "data": {
      "image/png": "[encoded data removed]",
      "text/plain": [
       "<Figure size 432x288 with 2 Axes>"
      ]
     },
     "metadata": {
      "needs_background": "light"
     },
     "output_type": "display_data"
    },
    {
     "name": "stdout",
     "output_type": "stream",
     "text": [
      "Accuracy: 0.9376801850129938\n",
      "Precision: 0.9376801850129938\n"
     ]
    }
   ],
   "source": [
    "X_new_candidates = df2[['duration' #we define the input values (splitting between predictors and outcome)\n",
    "         ,'var_inc'\n",
    "         ,'var_out'\n",
    "         ,'var_mis'\n",
    "         ,'var_unk'\n",
    "         ,'var_sd']]\n",
    "y_test_new_candidates = df2['paid_first_loan'] #we define the Y values from the same file\n",
    "y_pred_new_candidates = logistic_regression.predict(X_new_candidates)\n",
    "# compute/estimate the y values from the model\n",
    "\n",
    "# assess the model\n",
    "confusion_matrix = pd.crosstab(y_test_new_candidates, y_pred_new_candidates\n",
    "                               , rownames=['Actual']\n",
    "                               , colnames=['Predicted'])\n",
    "\n",
    "sns.heatmap(confusion_matrix, annot=True)\n",
    "print(confusion_matrix)\n",
    "print('Accuracy of logistic regression model is: {:.2f}'.format(metrics.accuracy_score(y_test_new_candidates, y_pred_new_candidates)))\n",
    "plt.show()\n",
    "print(\"Accuracy:\",metrics.accuracy_score(y_test_new_candidates, y_pred_new_candidates))\n",
    "print(\"Precision:\",metrics.precision_score(y_test_new_candidates, y_pred_new_candidates))"
   ]
  },
  {
   "cell_type": "markdown",
   "metadata": {},
   "source": [
    "### An accuracy of 94% is an outstanding output, and the high number of datasets does help.  Regression Models, including this Logistic Model above, with the more data we have, the more relevant the output comes up within our analysis."
   ]
  },
  {
   "cell_type": "markdown",
   "metadata": {},
   "source": [
    "### <span style='color:red'> More work is required in feature engineering, exploratory data analysis and to raise my domain knowledge by engaging with stakeholders. </span>"
   ]
  },
  {
   "cell_type": "code",
   "execution_count": null,
   "metadata": {},
   "outputs": [],
   "source": []
  }
 ],
 "metadata": {
  "kernelspec": {
   "display_name": "Python 3",
   "language": "python",
   "name": "python3"
  },
  "language_info": {
   "codemirror_mode": {
    "name": "ipython",
    "version": 3
   },
   "file_extension": ".py",
   "mimetype": "text/x-python",
   "name": "python",
   "nbconvert_exporter": "python",
   "pygments_lexer": "ipython3",
   "version": "3.7.6"
  }
 },
 "nbformat": 4,
 "nbformat_minor": 4
}
